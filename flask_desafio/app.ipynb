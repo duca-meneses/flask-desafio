{
 "cells": [
  {
   "cell_type": "markdown",
   "metadata": {},
   "source": [
    "# Api em Flask\n"
   ]
  },
  {
   "cell_type": "code",
   "execution_count": null,
   "metadata": {},
   "outputs": [],
   "source": [
    "from flask import Flask, jsonify\n",
    "import pandas as pd\n",
    "\n",
    "app = Flask(__name__)\n",
    "\n",
    "@app.route('/') \n",
    "def index():\n",
    "    return {'message': 'Welcome to Api flask!'}\n",
    "\n",
    "@app.route(\"/excel_to_json\", methods=['GET', 'POST'])\n",
    "def excel_to_json():\n",
    "    # Lê o arquivo xlsx na mesma pasta do arquivo main.py\n",
    "    df = pd.read_excel(\"flask_desafio/pessoas.xlsx\")\n",
    "    \n",
    "    # Converte o DataFrame em uma lista de dicionários\n",
    "    data = df.to_dict(orient=\"records\")\n",
    "    \n",
    "    # Retorna a lista de dicionários como resposta JSON\n",
    "    return jsonify(data)\n",
    "\n",
    "if __name__ == \"__main__\":\n",
    "    # Executa o aplicativo Flask dentro do Jupyter Notebook\n",
    "    from werkzeug.serving import run_simple\n",
    "    run_simple('localhost', 5000, app)\n"
   ]
  }
 ],
 "metadata": {
  "kernelspec": {
   "display_name": "flask-desafio-VWeD3uxY-py3.12",
   "language": "python",
   "name": "python3"
  },
  "language_info": {
   "codemirror_mode": {
    "name": "ipython",
    "version": 3
   },
   "file_extension": ".py",
   "mimetype": "text/x-python",
   "name": "python",
   "nbconvert_exporter": "python",
   "pygments_lexer": "ipython3",
   "version": "3.12.0"
  }
 },
 "nbformat": 4,
 "nbformat_minor": 2
}
